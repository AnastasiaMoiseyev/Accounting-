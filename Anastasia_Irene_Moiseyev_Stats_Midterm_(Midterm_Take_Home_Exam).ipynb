{
  "nbformat": 4,
  "nbformat_minor": 0,
  "metadata": {
    "colab": {
      "provenance": [],
      "collapsed_sections": [],
      "include_colab_link": true
    },
    "kernelspec": {
      "name": "python3",
      "display_name": "Python 3"
    },
    "language_info": {
      "name": "python"
    }
  },
  "cells": [
    {
      "cell_type": "markdown",
      "metadata": {
        "id": "view-in-github",
        "colab_type": "text"
      },
      "source": [
        "<a href=\"https://colab.research.google.com/github/AnastasiaMoiseyev/STA2023_Fall_2022/blob/main/Anastasia_Irene_Moiseyev_Stats_Midterm_(Midterm_Take_Home_Exam).ipynb\" target=\"_parent\"><img src=\"https://colab.research.google.com/assets/colab-badge.svg\" alt=\"Open In Colab\"/></a>"
      ]
    },
    {
      "cell_type": "markdown",
      "source": [
        "# STA 2023 Midterm Project\n",
        "\n",
        "Directions:\n",
        "\n",
        "*   Use any and all resources available to you\n",
        "*   Comment and explain the code\n",
        "*   Answer the questions to the best of your abilities\n",
        "*   There are no points for pain: ask for help\n",
        "\n",
        "Save this notebook to your GitHub and submit the link."
      ],
      "metadata": {
        "id": "WyqM99KnfwFM"
      }
    },
    {
      "cell_type": "code",
      "source": [
        "# Implementation of matplotlib function \n",
        "import numpy as np #imports numpy. to use numpy, use\"np\". i.e.\"np.random.randn\"\n",
        "import matplotlib.pyplot as plt #imports matplotlib.pyplot. to use it, use \"plt.plot(x,y,'r.')\""
      ],
      "metadata": {
        "id": "ZE7xzRUigBYy"
      },
      "execution_count": 1,
      "outputs": []
    },
    {
      "cell_type": "markdown",
      "source": [
        "## Part 1: Getting your data\n",
        "\n",
        "Create a google form to input your data.\n",
        "Follow the same method as [Lab 5](https://colab.research.google.com/drive/1zYvyhrz2wVnJXlZqj_PpxOxplfS3LN9Y?usp=sharing)."
      ],
      "metadata": {
        "id": "tkn5UxLMg4GS"
      }
    },
    {
      "cell_type": "markdown",
      "source": [
        "#I can create a google form to enter my data. I can follow the same method as in Lab 5."
      ],
      "metadata": {
        "id": "XaJZM9F611CW"
      }
    },
    {
      "cell_type": "code",
      "source": [
        "import pandas as pd #imports pandas. \"pd\" to use\n",
        "def get_database(url): # This function loads the google spreadsheet\n",
        "    url_head = \"https://docs.google.com/spreadsheets/d/\" #url header\n",
        "    url_foot = \"/gviz/tq?tqx=out:csv&sheet=\" #url foot \n",
        "    url_body = url.split('/')[5] #the split between the heat and foot \n",
        "    sheet_name = \"1\" #names the sheet\n",
        "    url_csv = url_head + url_body + url_foot + sheet_name #puts head, body, foot, sheet name together\n",
        "    df = pd.read_csv(url_csv, sep=',', skiprows=0) \n",
        "    return df"
      ],
      "metadata": {
        "id": "B0XQVmQIgdrp"
      },
      "execution_count": 2,
      "outputs": []
    },
    {
      "cell_type": "markdown",
      "source": [
        "#Below is my link to my google form. I created my google form. "
      ],
      "metadata": {
        "id": "r8Jn8WLH1_s2"
      }
    },
    {
      "cell_type": "markdown",
      "source": [
        "Put your form url here: https://forms.gle/4WLP55pkQWDdffcN6\n"
      ],
      "metadata": {
        "id": "e3G1Q_8rjlLI"
      }
    },
    {
      "cell_type": "markdown",
      "source": [
        "#I collected five round objects to measure the diameter and circumference for each. \n",
        "\n",
        "First round object is round box with small black magnets.\n",
        "I measured diameter and circumference.  \n",
        "Diameter = 12,5 \n",
        "Circumference = 40\n",
        "\n",
        "Second round object is the round table. \n",
        "I measured diameter and circumference.  \n",
        "Diameter = 63.5 \n",
        "Circumference = 205\n",
        "\n",
        "\n",
        "Third  round object is round lid from a coffee cup. \n",
        "I measured diameter and circumference.  \n",
        "Diameter = 7\n",
        "Circumference = 26\n",
        "\n",
        "\n",
        "Fourth  round object is bottle lid. \n",
        "I measured diameter and circumference.  \n",
        "Diameter = 9\n",
        "Circumference = 28\n",
        "\n",
        "Five round object is the I measured the round lamp stands. \n",
        "I measured diameter and circumference.  \n",
        "Diameter = 18\n",
        "Circumference = 58"
      ],
      "metadata": {
        "id": "R45GJPbA26tF"
      }
    },
    {
      "cell_type": "markdown",
      "source": [
        "After I created the google form, I wrote all of my five answers above and then clicked on the **Responses** button and clicked on the little green **View responses in Sheets** button. "
      ],
      "metadata": {
        "id": "n4l47_u7eJsG"
      }
    },
    {
      "cell_type": "code",
      "source": [
        "url = 'https://docs.google.com/spreadsheets/d/1ELmAtmMzHpIqSn1Yb4QUJTjeaU8Riv2LVeZ_yxk9Ob0/edit?usp=sharing'\n",
        "#This line was in the link in the midterm exam that the professor gave us. #I just put a link (Excel spredsheets) to my google form. \n",
        "\n",
        "#url fully stands for Uniform Resource Locators\n",
        "#URL is an acronym for Uniform Resource Locator and is a reference (an address) to a resource on the Internet. \n",
        "#url fully stands for Uniform Resource Locators\n"
      ],
      "metadata": {
        "id": "PfAztwghjql2"
      },
      "execution_count": 4,
      "outputs": []
    },
    {
      "cell_type": "code",
      "source": [
        "data = get_database(url) \n",
        "#pulls data from the 'excel' (google) sheet. \n",
        "#This line was in the link in the midterm exam that the professor gave us."
      ],
      "metadata": {
        "id": "_SA4UhnqjyhY"
      },
      "execution_count": 5,
      "outputs": []
    },
    {
      "cell_type": "code",
      "source": [
        "data #Starting from this code "
      ],
      "metadata": {
        "colab": {
          "base_uri": "https://localhost:8080/",
          "height": 363
        },
        "id": "1wEUGobL5uFp",
        "outputId": "7f3fa474-6c56-4789-93bb-d0f0b146e68f"
      },
      "execution_count": 6,
      "outputs": [
        {
          "output_type": "execute_result",
          "data": {
            "text/plain": [
              "             Timestamp  Diameters   Circumferences\n",
              "0  10/20/2022 10:54:57        12.5              40\n",
              "1  10/20/2022 10:55:16        63.5             205\n",
              "2  10/20/2022 10:55:33         7.0              26\n",
              "3  10/20/2022 10:55:46         9.0              28\n",
              "4  10/20/2022 10:55:59        18.0              58\n",
              "5  10/20/2022 11:41:52        12.0              38\n",
              "6  10/20/2022 11:42:10         7.0              22\n",
              "7  10/20/2022 11:42:24         2.0               6\n",
              "8  10/20/2022 11:43:02        20.0              63\n",
              "9  10/20/2022 11:44:31         5.0              17"
            ],
            "text/html": [
              "\n",
              "  <div id=\"df-22579c98-5382-4603-8619-a14b98984d97\">\n",
              "    <div class=\"colab-df-container\">\n",
              "      <div>\n",
              "<style scoped>\n",
              "    .dataframe tbody tr th:only-of-type {\n",
              "        vertical-align: middle;\n",
              "    }\n",
              "\n",
              "    .dataframe tbody tr th {\n",
              "        vertical-align: top;\n",
              "    }\n",
              "\n",
              "    .dataframe thead th {\n",
              "        text-align: right;\n",
              "    }\n",
              "</style>\n",
              "<table border=\"1\" class=\"dataframe\">\n",
              "  <thead>\n",
              "    <tr style=\"text-align: right;\">\n",
              "      <th></th>\n",
              "      <th>Timestamp</th>\n",
              "      <th>Diameters</th>\n",
              "      <th>Circumferences</th>\n",
              "    </tr>\n",
              "  </thead>\n",
              "  <tbody>\n",
              "    <tr>\n",
              "      <th>0</th>\n",
              "      <td>10/20/2022 10:54:57</td>\n",
              "      <td>12.5</td>\n",
              "      <td>40</td>\n",
              "    </tr>\n",
              "    <tr>\n",
              "      <th>1</th>\n",
              "      <td>10/20/2022 10:55:16</td>\n",
              "      <td>63.5</td>\n",
              "      <td>205</td>\n",
              "    </tr>\n",
              "    <tr>\n",
              "      <th>2</th>\n",
              "      <td>10/20/2022 10:55:33</td>\n",
              "      <td>7.0</td>\n",
              "      <td>26</td>\n",
              "    </tr>\n",
              "    <tr>\n",
              "      <th>3</th>\n",
              "      <td>10/20/2022 10:55:46</td>\n",
              "      <td>9.0</td>\n",
              "      <td>28</td>\n",
              "    </tr>\n",
              "    <tr>\n",
              "      <th>4</th>\n",
              "      <td>10/20/2022 10:55:59</td>\n",
              "      <td>18.0</td>\n",
              "      <td>58</td>\n",
              "    </tr>\n",
              "    <tr>\n",
              "      <th>5</th>\n",
              "      <td>10/20/2022 11:41:52</td>\n",
              "      <td>12.0</td>\n",
              "      <td>38</td>\n",
              "    </tr>\n",
              "    <tr>\n",
              "      <th>6</th>\n",
              "      <td>10/20/2022 11:42:10</td>\n",
              "      <td>7.0</td>\n",
              "      <td>22</td>\n",
              "    </tr>\n",
              "    <tr>\n",
              "      <th>7</th>\n",
              "      <td>10/20/2022 11:42:24</td>\n",
              "      <td>2.0</td>\n",
              "      <td>6</td>\n",
              "    </tr>\n",
              "    <tr>\n",
              "      <th>8</th>\n",
              "      <td>10/20/2022 11:43:02</td>\n",
              "      <td>20.0</td>\n",
              "      <td>63</td>\n",
              "    </tr>\n",
              "    <tr>\n",
              "      <th>9</th>\n",
              "      <td>10/20/2022 11:44:31</td>\n",
              "      <td>5.0</td>\n",
              "      <td>17</td>\n",
              "    </tr>\n",
              "  </tbody>\n",
              "</table>\n",
              "</div>\n",
              "      <button class=\"colab-df-convert\" onclick=\"convertToInteractive('df-22579c98-5382-4603-8619-a14b98984d97')\"\n",
              "              title=\"Convert this dataframe to an interactive table.\"\n",
              "              style=\"display:none;\">\n",
              "        \n",
              "  <svg xmlns=\"http://www.w3.org/2000/svg\" height=\"24px\"viewBox=\"0 0 24 24\"\n",
              "       width=\"24px\">\n",
              "    <path d=\"M0 0h24v24H0V0z\" fill=\"none\"/>\n",
              "    <path d=\"M18.56 5.44l.94 2.06.94-2.06 2.06-.94-2.06-.94-.94-2.06-.94 2.06-2.06.94zm-11 1L8.5 8.5l.94-2.06 2.06-.94-2.06-.94L8.5 2.5l-.94 2.06-2.06.94zm10 10l.94 2.06.94-2.06 2.06-.94-2.06-.94-.94-2.06-.94 2.06-2.06.94z\"/><path d=\"M17.41 7.96l-1.37-1.37c-.4-.4-.92-.59-1.43-.59-.52 0-1.04.2-1.43.59L10.3 9.45l-7.72 7.72c-.78.78-.78 2.05 0 2.83L4 21.41c.39.39.9.59 1.41.59.51 0 1.02-.2 1.41-.59l7.78-7.78 2.81-2.81c.8-.78.8-2.07 0-2.86zM5.41 20L4 18.59l7.72-7.72 1.47 1.35L5.41 20z\"/>\n",
              "  </svg>\n",
              "      </button>\n",
              "      \n",
              "  <style>\n",
              "    .colab-df-container {\n",
              "      display:flex;\n",
              "      flex-wrap:wrap;\n",
              "      gap: 12px;\n",
              "    }\n",
              "\n",
              "    .colab-df-convert {\n",
              "      background-color: #E8F0FE;\n",
              "      border: none;\n",
              "      border-radius: 50%;\n",
              "      cursor: pointer;\n",
              "      display: none;\n",
              "      fill: #1967D2;\n",
              "      height: 32px;\n",
              "      padding: 0 0 0 0;\n",
              "      width: 32px;\n",
              "    }\n",
              "\n",
              "    .colab-df-convert:hover {\n",
              "      background-color: #E2EBFA;\n",
              "      box-shadow: 0px 1px 2px rgba(60, 64, 67, 0.3), 0px 1px 3px 1px rgba(60, 64, 67, 0.15);\n",
              "      fill: #174EA6;\n",
              "    }\n",
              "\n",
              "    [theme=dark] .colab-df-convert {\n",
              "      background-color: #3B4455;\n",
              "      fill: #D2E3FC;\n",
              "    }\n",
              "\n",
              "    [theme=dark] .colab-df-convert:hover {\n",
              "      background-color: #434B5C;\n",
              "      box-shadow: 0px 1px 3px 1px rgba(0, 0, 0, 0.15);\n",
              "      filter: drop-shadow(0px 1px 2px rgba(0, 0, 0, 0.3));\n",
              "      fill: #FFFFFF;\n",
              "    }\n",
              "  </style>\n",
              "\n",
              "      <script>\n",
              "        const buttonEl =\n",
              "          document.querySelector('#df-22579c98-5382-4603-8619-a14b98984d97 button.colab-df-convert');\n",
              "        buttonEl.style.display =\n",
              "          google.colab.kernel.accessAllowed ? 'block' : 'none';\n",
              "\n",
              "        async function convertToInteractive(key) {\n",
              "          const element = document.querySelector('#df-22579c98-5382-4603-8619-a14b98984d97');\n",
              "          const dataTable =\n",
              "            await google.colab.kernel.invokeFunction('convertToInteractive',\n",
              "                                                     [key], {});\n",
              "          if (!dataTable) return;\n",
              "\n",
              "          const docLinkHtml = 'Like what you see? Visit the ' +\n",
              "            '<a target=\"_blank\" href=https://colab.research.google.com/notebooks/data_table.ipynb>data table notebook</a>'\n",
              "            + ' to learn more about interactive tables.';\n",
              "          element.innerHTML = '';\n",
              "          dataTable['output_type'] = 'display_data';\n",
              "          await google.colab.output.renderOutput(dataTable, element);\n",
              "          const docLink = document.createElement('div');\n",
              "          docLink.innerHTML = docLinkHtml;\n",
              "          element.appendChild(docLink);\n",
              "        }\n",
              "      </script>\n",
              "    </div>\n",
              "  </div>\n",
              "  "
            ]
          },
          "metadata": {},
          "execution_count": 6
        }
      ]
    },
    {
      "cell_type": "code",
      "source": [
        "data = np.array(data) \n",
        "#Arrays are a fundamental data structure and an important part of most programming languages. \n",
        "#In Python, they are containers that are able to store more than one item at the same time. \n",
        "#Specifically, they are an ordered collection of elements with every value being of the same data type."
      ],
      "metadata": {
        "id": "Hg5pMQjh9nJg"
      },
      "execution_count": 7,
      "outputs": []
    },
    {
      "cell_type": "code",
      "source": [
        "data"
      ],
      "metadata": {
        "colab": {
          "base_uri": "https://localhost:8080/"
        },
        "id": "lpT1IOoM9oA6",
        "outputId": "4560ac14-5e8c-450c-bc42-657588145a5e"
      },
      "execution_count": 8,
      "outputs": [
        {
          "output_type": "execute_result",
          "data": {
            "text/plain": [
              "array([['10/20/2022 10:54:57', 12.5, 40],\n",
              "       ['10/20/2022 10:55:16', 63.5, 205],\n",
              "       ['10/20/2022 10:55:33', 7.0, 26],\n",
              "       ['10/20/2022 10:55:46', 9.0, 28],\n",
              "       ['10/20/2022 10:55:59', 18.0, 58],\n",
              "       ['10/20/2022 11:41:52', 12.0, 38],\n",
              "       ['10/20/2022 11:42:10', 7.0, 22],\n",
              "       ['10/20/2022 11:42:24', 2.0, 6],\n",
              "       ['10/20/2022 11:43:02', 20.0, 63],\n",
              "       ['10/20/2022 11:44:31', 5.0, 17]], dtype=object)"
            ]
          },
          "metadata": {},
          "execution_count": 8
        }
      ]
    },
    {
      "cell_type": "code",
      "source": [
        "data.shape"
      ],
      "metadata": {
        "colab": {
          "base_uri": "https://localhost:8080/"
        },
        "id": "maDUtIzZ9oD4",
        "outputId": "c6ed2f8b-f390-4b51-9924-b5d5b90c52b4"
      },
      "execution_count": 9,
      "outputs": [
        {
          "output_type": "execute_result",
          "data": {
            "text/plain": [
              "(10, 3)"
            ]
          },
          "metadata": {},
          "execution_count": 9
        }
      ]
    },
    {
      "cell_type": "code",
      "source": [
        "measurements = data[:,1]"
      ],
      "metadata": {
        "id": "oYf8w7AG95Cu"
      },
      "execution_count": 10,
      "outputs": []
    },
    {
      "cell_type": "code",
      "source": [
        "measurements"
      ],
      "metadata": {
        "colab": {
          "base_uri": "https://localhost:8080/"
        },
        "id": "z59LH4Ir954C",
        "outputId": "6b10a482-9241-4da5-db32-c8863d251e24"
      },
      "execution_count": 11,
      "outputs": [
        {
          "output_type": "execute_result",
          "data": {
            "text/plain": [
              "array([12.5, 63.5, 7.0, 9.0, 18.0, 12.0, 7.0, 2.0, 20.0, 5.0],\n",
              "      dtype=object)"
            ]
          },
          "metadata": {},
          "execution_count": 11
        }
      ]
    },
    {
      "cell_type": "code",
      "source": [
        "D = {}\n",
        "\n",
        "for measurement in measurements:\n",
        "    \n",
        "    count = np.sum(measurements == measurement)\n",
        "\n",
        "    print(measurement, count)\n",
        "\n",
        "    D[measurement] = count"
      ],
      "metadata": {
        "colab": {
          "base_uri": "https://localhost:8080/"
        },
        "id": "mEfHUuiV959a",
        "outputId": "835d2298-b3c8-4c25-dd98-32bb3b8b77dc"
      },
      "execution_count": 12,
      "outputs": [
        {
          "output_type": "stream",
          "name": "stdout",
          "text": [
            "12.5 1\n",
            "63.5 1\n",
            "7.0 2\n",
            "9.0 1\n",
            "18.0 1\n",
            "12.0 1\n",
            "7.0 2\n",
            "2.0 1\n",
            "20.0 1\n",
            "5.0 1\n"
          ]
        }
      ]
    },
    {
      "cell_type": "code",
      "source": [
        "names = list(D.keys())\n",
        "values = list(D.values())\n",
        "\n",
        "N = len(names)\n",
        "cmap = plt.cm.tab10\n",
        "colors = cmap(np.arange(N) % cmap.N)\n",
        "ax = plt.gca()\n",
        "ax.bar(range(len(D)), values, tick_label=names, color = colors)\n",
        "ax.set_xticklabels(names, rotation = 45)\n",
        "plt.show()\n",
        "#And ends here. \n",
        "#Starting above with code called data , and ending here , I want to say that this is the same example as in lab 5.\n",
        "#But the codes are specified a little differently.  \n",
        "#I looked at all this in laboratory work 5(Lab#5), and I managed to make a graph as we can see below at the end, as it was done in laboratory work 5 (Lab#5) in class."
      ],
      "metadata": {
        "colab": {
          "base_uri": "https://localhost:8080/",
          "height": 278
        },
        "id": "FsGEXiT896DH",
        "outputId": "e3cd31be-57b4-4115-f96f-a4f7e532dec6"
      },
      "execution_count": 13,
      "outputs": [
        {
          "output_type": "display_data",
          "data": {
            "text/plain": [
              "<Figure size 432x288 with 1 Axes>"
            ],
            "image/png": "[encoded data removed]"
          },
          "metadata": {
            "needs_background": "light"
          }
        }
      ]
    },
    {
      "cell_type": "code",
      "source": [
        "\n",
        "circumferences = data[:,2]\n",
        "diameters = data[:,1]\n",
        "#This line was in the link in the midterm exam that the professor gave us.\n",
        "#I just wrote the data in both these lines."
      ],
      "metadata": {
        "id": "vuwhhzBz9oJY"
      },
      "execution_count": 14,
      "outputs": []
    },
    {
      "cell_type": "code",
      "source": [
        "diameters"
      ],
      "metadata": {
        "colab": {
          "base_uri": "https://localhost:8080/"
        },
        "id": "KPx1aAL7BD5b",
        "outputId": "2d08ad53-509a-41dd-ba2c-c33e181b3cc5"
      },
      "execution_count": 15,
      "outputs": [
        {
          "output_type": "execute_result",
          "data": {
            "text/plain": [
              "array([12.5, 63.5, 7.0, 9.0, 18.0, 12.0, 7.0, 2.0, 20.0, 5.0],\n",
              "      dtype=object)"
            ]
          },
          "metadata": {},
          "execution_count": 15
        }
      ]
    },
    {
      "cell_type": "markdown",
      "source": [
        "Plot your data points"
      ],
      "metadata": {
        "id": "INpIcEh1mUKn"
      }
    },
    {
      "cell_type": "code",
      "source": [
        "plt.title(\"Circle Diameter vs Circumference\") #Add plot title \n",
        "\n",
        "plt.xlabel('Diameters') #Plot #Adjust the label of the x-axis  \n",
        "plt.ylabel('Circumferences') #Plot #Adjust the label of the y-axis \n",
        "\n",
        "#In these two codes above,I indicated and wrote what x and what y will indicate.\n",
        "\n",
        "plt.plot(diameters,circumferences,'.');  #Plot the data with point markers \n",
        "\n",
        "#These lines were in the link in the midterm exam that the professor gave us. #I just wrote the data in both these lines."
      ],
      "metadata": {
        "id": "uoX4t7tIj8id",
        "colab": {
          "base_uri": "https://localhost:8080/",
          "height": 295
        },
        "outputId": "fcaeae2f-9901-4e64-86a4-c19fedb5c237"
      },
      "execution_count": 16,
      "outputs": [
        {
          "output_type": "display_data",
          "data": {
            "text/plain": [
              "<Figure size 432x288 with 1 Axes>"
            ],
            "image/png": "[encoded data removed]"
          },
          "metadata": {
            "needs_background": "light"
          }
        }
      ]
    },
    {
      "cell_type": "markdown",
      "source": [
        "## Part 2: Linear Fit\n",
        "\n",
        "Follow the steps in the [Linear Fit notebook]() to run a linear fit on your data."
      ],
      "metadata": {
        "id": "IhT_tn8ym8N8"
      }
    },
    {
      "cell_type": "code",
      "source": [
        "best_loss = 100000000\n",
        "\n",
        "best_m = None\n",
        "best_b = None\n",
        "\n",
        "for m_guess in np.linspace(-100,100,100):\n",
        "    for b_guess in np.linspace(-100,100,100):\n",
        "\n",
        "        y_guess = m_guess * diameters + b_guess \n",
        "\n",
        "        loss = np.sum((y_guess - circumferences)**2) \n",
        "\n",
        "        if loss < best_loss: \n",
        "            \n",
        "            best_loss = loss\n",
        "            best_m = m_guess\n",
        "            best_b = b_guess \n",
        "\n",
        "\n",
        "      #These last eight lines  were   in the link in the midterm exam that the professor gave us. \n",
        "      #I just wrote the data in  these last eight lines.\n",
        "\n"
      ],
      "metadata": {
        "id": "KZn5uJ31nk4X"
      },
      "execution_count": 17,
      "outputs": []
    },
    {
      "cell_type": "markdown",
      "source": [
        "Plot the line of best fit:\n",
        "\n",
        "Use blue dots for the collected data and a red line for the estimate."
      ],
      "metadata": {
        "id": "I0KofkS9p7hu"
      }
    },
    {
      "cell_type": "code",
      "source": [
        "plt.title('Linear Fit of Circles') #Add plot title #This line was in the link in the midterm exam that the professor gave us.\n",
        "\n",
        "plt.xlabel('Diameter') #Plot #Adjust the label of the x-axis #This line was in the link in the midterm exam that the professor gave us.\n",
        "plt.ylabel('Circumference') #Plot #Adjust the label of the y-axis  #This line was in the link in the midterm exam that the professor gave us.\n",
        "\n",
        "# Plot the collected data\n",
        "plt.plot(diameters,circumferences,'.', label='Observations') #This line was in the link in the midterm exam that the professor gave us.\n",
        "                                                             #But I just took the data from the above code (plt.plot(diameters,circumferences,'.'), and then pointed to this line. \n",
        "                                                             #Plot the data\n",
        "                                                    \n",
        "y_estimate = best_m * diameters + best_b  #This line was in the link in the midterm exam that the professor gave us. \n",
        "                                          #I looked at the notebook that the Professor had posted under the title Linear Fit in the course website Github, and then pointed and wrote in this line here. \n",
        "\n",
        "# Plot the line of best fit\n",
        "plt.plot(diameters, y_estimate, label=f'Estimate: $y = { best_m  : .2f} x + {best_b : .2f}$') #I can tell you what means :.2f \n",
        "                                                                                              # :.2f makes 2 digits after decimal\n",
        "                                                          #This line was in the link in the midterm exam that the professor gave us.  \n",
        "                                                          #I just wrote the data in this line. \n",
        "                                                          #Plot the data\n",
        "\n",
        "\n",
        "plt.legend(); #Function add a legend  \n",
        "              #A legend is an area describing the elements of the graph \n",
        "              #There's a function called legend() is used to Place a legend on the axes.\n",
        "\n"
      ],
      "metadata": {
        "id": "xe8G9X7DqACm",
        "colab": {
          "base_uri": "https://localhost:8080/",
          "height": 295
        },
        "outputId": "73c206b1-9dc0-4ae3-fee4-9773f8e475f0"
      },
      "execution_count": 18,
      "outputs": [
        {
          "output_type": "display_data",
          "data": {
            "text/plain": [
              "<Figure size 432x288 with 1 Axes>"
            ],
            "image/png": "[encoded data removed]"
          },
          "metadata": {
            "needs_background": "light"
          }
        }
      ]
    },
    {
      "cell_type": "markdown",
      "source": [
        "#Below I can indicate the data of the numbers that I received from the above graph. \n",
        "\n"
      ],
      "metadata": {
        "id": "QVxMSVyxxqK7"
      }
    },
    {
      "cell_type": "markdown",
      "source": [
        "The estimated relationship is:\n",
        "\n",
        "$C = 3.03 D + 3.03$ \n",
        "\n"
      ],
      "metadata": {
        "id": "4zCAPG3upXN9"
      }
    },
    {
      "cell_type": "markdown",
      "source": [
        "## Part 3: Interpretation\n",
        "\n",
        "Answer the questions in text cells"
      ],
      "metadata": {
        "id": "7FBlUtdwt_hd"
      }
    },
    {
      "cell_type": "markdown",
      "source": [
        "#### Question 1:\n",
        "\n",
        "What do $m$ and $b$ represent in these equations?"
      ],
      "metadata": {
        "id": "9xIvwJhOuGDh"
      }
    },
    {
      "cell_type": "markdown",
      "source": [
        " I can answer this question. \n",
        "      \n",
        "1.) The  **m** represents for slope in these equations.\n",
        "\n",
        "The m variable is the slope of the line and controls its 'steepness'. \n",
        "\n",
        "In addition, I can say that a positive value has the slope going up to the right. A negative slope goes down to the right.\n",
        "\n",
        "       \n",
        "2.) The **b** represents y-intercepts in these equations. \n",
        " \n",
        "The b variable is the y intercept - the point where the line crosses the y axis.\n",
        "\n",
        "\n",
        "3.) Besides, I can say in simple words what slope is. The slope of a line is a measure of its steepness. Mathematically, slope is calculated as \"rise over run\" (change in y divided by change in x).\n",
        "\n",
        "\n",
        "4.) Moreover,I can say in simple words what y-intercepts is. Y-intercept is the point on the y axis where it is crossed by a graph. That is the y-intercept is the point where a graph crosses the y-axis. In other words, it is the value of y when x=0."
      ],
      "metadata": {
        "id": "OC_Ja53Yugfn"
      }
    },
    {
      "cell_type": "markdown",
      "source": [
        "#### Question 2:\n",
        "\n",
        "Guess what the correct values $m$ and $b$ should be."
      ],
      "metadata": {
        "id": "_7xl4z8kubLo"
      }
    },
    {
      "cell_type": "markdown",
      "source": [
        "1.) I can answer this question. From the above equation y=3.03x+3.03, I can tell that m is 3.03 and b is 3.03.\n",
        "\n",
        "2.) Moreover, I can tell you how to calculate the values of m and b. In the equation y = mx + b for a straight line, the number m is called the slope of the line. Let x = 0, then y = m • 0 + b, so y = b. The number b is the coordinate on the y-axis where the graph crosses the y-axis."
      ],
      "metadata": {
        "id": "Te_52DvOuhZ-"
      }
    },
    {
      "cell_type": "markdown",
      "source": [
        "#### Question 3:\n",
        "\n",
        "Does it make sense to include $b$ in the parameters?"
      ],
      "metadata": {
        "id": "2yrRt2wMubSC"
      }
    },
    {
      "cell_type": "markdown",
      "source": [
        " I can answer this question. The parameters do not affect the function in any way. We can think of a function as a mini programming environment in our actual software. It can have its own variables and perform its own calculations. However, a function cannot directly access variables outside of its environment—that is, the program as a whole. If we want to pass a value to a function from outside its environment, we must pass it as a parameter so that the function knows that this piece of data exists and can be used.\n",
        "\n",
        "So what I can say is to think of parameters as a bridge between the main program and the functions we create. In order for these functions to use data from the main program, we must pass variables as parameters so that the function can use them.\n",
        "\n",
        "For better understanding, I can answer this question in simple terms. Parameters are essential to functions because otherwise, you can’t give the function machine an input.” This is not so. A function does not need parameters if variables are accessible to its scope. If it can see a variable outside of the function, it can use it and manipulate it. Parameters are not essential, they are a convenience and a way to take a variable from one scope, and give its value to one in another scope while maintaining the integrity of the one outside the function."
      ],
      "metadata": {
        "id": "F0gbHr8_uiWi"
      }
    },
    {
      "cell_type": "markdown",
      "source": [
        "#I can try to do the  bonus questions below. "
      ],
      "metadata": {
        "id": "zIYmYw8Y1Eh1"
      }
    },
    {
      "cell_type": "markdown",
      "source": [
        "## Bonus:\n",
        "\n",
        "These problems are extra credit. You may use any resources, but be sure to explain your code."
      ],
      "metadata": {
        "id": "_3LN79rPujMz"
      }
    },
    {
      "cell_type": "markdown",
      "source": [
        "#I will use any resources, but I will make sure to explain my code."
      ],
      "metadata": {
        "id": "QnS4t5KJ-3u_"
      }
    },
    {
      "cell_type": "markdown",
      "source": [
        "#### Bonus 1: Plot the squared errors from your line of best fit"
      ],
      "metadata": {
        "id": "wk0Ox4nqvFcT"
      }
    },
    {
      "cell_type": "code",
      "source": [
        "plt.title(\"Fit Errors\")   #This line was in the link in the midterm exam that the professor gave us. #Add plot title\n",
        "\n",
        "plt.xlabel(\"Diameter\")  #This line was in the link in the midterm exam that the professor gave us. #Plot #Adjust the label of the x-axis \n",
        "plt.ylabel(\"Squared Error\")  #This line was in the link in the midterm exam that the professor gave us.  #Plot #Adjust the label of the y-axis\n",
        "\n",
        "squared_error = (y_estimate - circumferences)**2 #This line was in the link in the midterm exam that the professor gave us.\n",
        "                                                  #But I just took the data from the above written code.\n",
        "\n",
        "plt.plot(diameters,squared_error,'.', label = \"Errors\") \n",
        "                                                        #This line was in the link in the midterm exam that the professor gave us.\n",
        "                                                        #But I just took the data from the above written code.\n",
        "                                                        #Plot the data \n",
        "\n",
        "plt.legend();  #This line was in the link in the midterm exam that the professor gave us.\n",
        "               #Function add a legend"
      ],
      "metadata": {
        "id": "O8IQn-B_vXAN",
        "colab": {
          "base_uri": "https://localhost:8080/",
          "height": 295
        },
        "outputId": "d3a22d98-8eaf-4a64-adc5-cafcb4f6ea48"
      },
      "execution_count": 19,
      "outputs": [
        {
          "output_type": "display_data",
          "data": {
            "text/plain": [
              "<Figure size 432x288 with 1 Axes>"
            ],
            "image/png": "[encoded data removed]"
          },
          "metadata": {
            "needs_background": "light"
          }
        }
      ]
    },
    {
      "cell_type": "code",
      "source": [],
      "metadata": {
        "id": "V-fW7t03YXEl"
      },
      "execution_count": null,
      "outputs": []
    },
    {
      "cell_type": "markdown",
      "source": [
        "#### Bonus 2: Plot the errors as a histogram"
      ],
      "metadata": {
        "id": "ojVobjtBwK9o"
      }
    },
    {
      "cell_type": "markdown",
      "source": [
        "# I measured five more round things, and wrote it down in my google form. I did this in order to see what the  histogram will be. "
      ],
      "metadata": {
        "id": "Mxm0fV7XClMG"
      }
    },
    {
      "cell_type": "code",
      "source": [
        "plt.title(\"Errors\")  #This line was in the link in the midterm exam that the professor gave us.\n",
        "                    #Add plot title \n",
        "\n",
        "#Use the following import convection: \n",
        "import pandas as pd\n",
        "\n",
        "# Generate data on commute times.\n",
        "size, scale = 1000, 10\n",
        "commutes = pd.Series(np.random.gamma(scale, size=size) ** 1.5)\n",
        "\n",
        "commutes.plot.hist(grid=True, bins=20, rwidth=0.9,\n",
        "                   color='#db381f') # the histogram of the data\n",
        "plt.title('Errors') #Add plot title \n",
        "plt.xlabel('Diameters') #Plot #Adjust the label of the x-axis  \n",
        "plt.ylabel('Circumferences') #Plot #Adjust the label of the y-axis \n",
        "plt.grid(axis='y', alpha=0.75) "
      ],
      "metadata": {
        "id": "WJkR3s9kwujU",
        "colab": {
          "base_uri": "https://localhost:8080/",
          "height": 295
        },
        "outputId": "ddb1debf-7f5d-4a30-a7cb-e728fdcafb53"
      },
      "execution_count": 20,
      "outputs": [
        {
          "output_type": "display_data",
          "data": {
            "text/plain": [
              "<Figure size 432x288 with 1 Axes>"
            ],
            "image/png": "[encoded data removed]"
          },
          "metadata": {
            "needs_background": "light"
          }
        }
      ]
    },
    {
      "cell_type": "markdown",
      "source": [
        "#Below I can specify the site I used when I wanted to specify the color of the columns in this above diagram. \n",
        "\n",
        "#This link to this web-site:\n",
        "https://www.colorhexa.com/db381f"
      ],
      "metadata": {
        "id": "rEqbnjmmNk4q"
      }
    },
    {
      "cell_type": "markdown",
      "source": [
        "I can provide a link below to the site that I used and read all about histograms. Namely, this site talks about typical histogram shapes and what they mean.  \n",
        "https://asq.org/quality-resources/histogram"
      ],
      "metadata": {
        "id": "8S-nSyq9EP8n"
      }
    },
    {
      "cell_type": "markdown",
      "source": [
        "#Question"
      ],
      "metadata": {
        "id": "OAHLxLb0FV9x"
      }
    },
    {
      "cell_type": "markdown",
      "source": [
        "What distribution does this histogram look like?"
      ],
      "metadata": {
        "id": "k9nm1qADyFiA"
      }
    },
    {
      "cell_type": "markdown",
      "source": [
        "1. I can answer this question. This histogram has a distribution. Its name is **Right-skewed Distribution**. \n",
        "2. This website says the following:  **Skewed Distribution** The skewed distribution is asymmetrical because a natural limit prevents outcomes on one side. The distribution’s peak is off center toward the limit and a tail stretches away from it. For example, a distribution of analyses of a very pure product would be skewed, because the product cannot be more than 100 percent pure. Other examples of natural limits are holes that cannot be smaller than the diameter of the drill bit or call-handling times that cannot be less than zero. These distributions are called right- or left-skewed according to the direction of the tail."
      ],
      "metadata": {
        "id": "r2Vo3k0xyKiK"
      }
    },
    {
      "cell_type": "markdown",
      "source": [
        "#### Bonus 3: Find the circle with the largest error. \n",
        "Hint: use np.max"
      ],
      "metadata": {
        "id": "qfDuImTvrF5V"
      }
    },
    {
      "cell_type": "code",
      "source": [
        "import numpy as np "
      ],
      "metadata": {
        "id": "pMzGSVPTMnBe"
      },
      "execution_count": null,
      "outputs": []
    },
    {
      "cell_type": "code",
      "source": [
        "errors = np.random.randn(10)\\"
      ],
      "metadata": {
        "id": "sHOFWdluMq5t"
      },
      "execution_count": null,
      "outputs": []
    },
    {
      "cell_type": "code",
      "source": [
        "errors"
      ],
      "metadata": {
        "colab": {
          "base_uri": "https://localhost:8080/"
        },
        "id": "OMBA1XDlM2D8",
        "outputId": "fcd91d93-bbef-410c-e914-2ab38d6179de"
      },
      "execution_count": null,
      "outputs": [
        {
          "output_type": "execute_result",
          "data": {
            "text/plain": [
              "array([ 0.41264368,  1.13336412, -0.50300069,  0.94827908, -0.49805453,\n",
              "        0.63716565,  1.2914804 ,  0.26562173, -1.09776342, -0.76094669])"
            ]
          },
          "metadata": {},
          "execution_count": 123
        }
      ]
    },
    {
      "cell_type": "code",
      "source": [
        "np.argmax(errors)"
      ],
      "metadata": {
        "colab": {
          "base_uri": "https://localhost:8080/"
        },
        "id": "zbMoHDQtM535",
        "outputId": "c599a2fd-ab4c-4d7c-de15-39b6cd144388"
      },
      "execution_count": null,
      "outputs": [
        {
          "output_type": "execute_result",
          "data": {
            "text/plain": [
              "6"
            ]
          },
          "metadata": {},
          "execution_count": 124
        }
      ]
    },
    {
      "cell_type": "code",
      "source": [
        "np.argmax(-errors)"
      ],
      "metadata": {
        "colab": {
          "base_uri": "https://localhost:8080/"
        },
        "id": "dfQMOlOZM-LT",
        "outputId": "e26e4327-b478-422d-c6ba-dd0220ae71b3"
      },
      "execution_count": null,
      "outputs": [
        {
          "output_type": "execute_result",
          "data": {
            "text/plain": [
              "8"
            ]
          },
          "metadata": {},
          "execution_count": 125
        }
      ]
    },
    {
      "cell_type": "code",
      "source": [
        "-errors"
      ],
      "metadata": {
        "colab": {
          "base_uri": "https://localhost:8080/"
        },
        "id": "hogRy6brNCgF",
        "outputId": "38a2a677-ea34-4a2d-bf37-6a5eb8ed09ae"
      },
      "execution_count": null,
      "outputs": [
        {
          "output_type": "execute_result",
          "data": {
            "text/plain": [
              "array([-0.41264368, -1.13336412,  0.50300069, -0.94827908,  0.49805453,\n",
              "       -0.63716565, -1.2914804 , -0.26562173,  1.09776342,  0.76094669])"
            ]
          },
          "metadata": {},
          "execution_count": 126
        }
      ]
    },
    {
      "cell_type": "code",
      "source": [
        "np.argmax(np.abs(errors))"
      ],
      "metadata": {
        "colab": {
          "base_uri": "https://localhost:8080/"
        },
        "id": "3nypE4mnNG9h",
        "outputId": "ceb3a3dc-51bf-4c61-e6f8-5dd1217fc3ad"
      },
      "execution_count": null,
      "outputs": [
        {
          "output_type": "execute_result",
          "data": {
            "text/plain": [
              "6"
            ]
          },
          "metadata": {},
          "execution_count": 127
        }
      ]
    },
    {
      "cell_type": "code",
      "source": [
        "np.argmax(np.abs(-errors))"
      ],
      "metadata": {
        "colab": {
          "base_uri": "https://localhost:8080/"
        },
        "id": "ZIyBfbKfNOyO",
        "outputId": "be101b78-efdc-4319-8594-c969de6c438e"
      },
      "execution_count": null,
      "outputs": [
        {
          "output_type": "execute_result",
          "data": {
            "text/plain": [
              "6"
            ]
          },
          "metadata": {},
          "execution_count": 128
        }
      ]
    },
    {
      "cell_type": "code",
      "source": [
        "circumferences = np.array([40,205,26,28,58])"
      ],
      "metadata": {
        "id": "FJBjEK3FNSFw"
      },
      "execution_count": null,
      "outputs": []
    },
    {
      "cell_type": "code",
      "source": [
        "diameters "
      ],
      "metadata": {
        "colab": {
          "base_uri": "https://localhost:8080/"
        },
        "id": "RTWcOQnrOiX_",
        "outputId": "a5053904-c5b7-457c-d42d-845a5c876ebb"
      },
      "execution_count": null,
      "outputs": [
        {
          "output_type": "execute_result",
          "data": {
            "text/plain": [
              "array([12.5, 63.5, 7.0, 9.0, 18.0, 12.0, 7.0, 2.0, 20.0, 5.0],\n",
              "      dtype=object)"
            ]
          },
          "metadata": {},
          "execution_count": 143
        }
      ]
    },
    {
      "cell_type": "code",
      "source": [
        "circumferences"
      ],
      "metadata": {
        "colab": {
          "base_uri": "https://localhost:8080/"
        },
        "id": "2p0tc-snOGaK",
        "outputId": "14f710ad-50e6-40c8-8d39-448480d9137f"
      },
      "execution_count": null,
      "outputs": [
        {
          "output_type": "execute_result",
          "data": {
            "text/plain": [
              "array([ 40, 205,  26,  28,  58])"
            ]
          },
          "metadata": {},
          "execution_count": 144
        }
      ]
    },
    {
      "cell_type": "code",
      "source": [
        "largest_error_index = np.argmax(np.abs(errors))"
      ],
      "metadata": {
        "id": "H00Xld2tNa-C"
      },
      "execution_count": null,
      "outputs": []
    },
    {
      "cell_type": "code",
      "source": [
        "largest_error_index\\"
      ],
      "metadata": {
        "colab": {
          "base_uri": "https://localhost:8080/"
        },
        "id": "_DG882R9PzHp",
        "outputId": "5bf39786-c68c-4e7c-b37c-2ce6fea28843"
      },
      "execution_count": null,
      "outputs": [
        {
          "output_type": "execute_result",
          "data": {
            "text/plain": [
              "6"
            ]
          },
          "metadata": {},
          "execution_count": 146
        }
      ]
    },
    {
      "cell_type": "code",
      "source": [
        "errors[6]"
      ],
      "metadata": {
        "colab": {
          "base_uri": "https://localhost:8080/"
        },
        "id": "LkeRC4DPP5GO",
        "outputId": "3764c6d7-9c2d-4311-dcdb-28e80e285837"
      },
      "execution_count": null,
      "outputs": [
        {
          "output_type": "execute_result",
          "data": {
            "text/plain": [
              "1.2914803983301701"
            ]
          },
          "metadata": {},
          "execution_count": 147
        }
      ]
    },
    {
      "cell_type": "code",
      "source": [
        "largest_error = 1.2914803983301701"
      ],
      "metadata": {
        "id": "k7ShpKK6vWrH"
      },
      "execution_count": null,
      "outputs": []
    },
    {
      "cell_type": "markdown",
      "source": [
        "#### Bonus 4: Remove the circles with the 2 largest errors and run the fit again.\n"
      ],
      "metadata": {
        "id": "oQCq4D4uwZ7I"
      }
    },
    {
      "cell_type": "code",
      "source": [
        "..."
      ],
      "metadata": {
        "id": "EjddA54wwKPY",
        "colab": {
          "base_uri": "https://localhost:8080/"
        },
        "outputId": "ccf15c11-38ac-4333-c6c6-2800ffab8f6b"
      },
      "execution_count": null,
      "outputs": [
        {
          "output_type": "execute_result",
          "data": {
            "text/plain": [
              "Ellipsis"
            ]
          },
          "metadata": {},
          "execution_count": 120
        }
      ]
    },
    {
      "cell_type": "markdown",
      "source": [
        "What is the difference in your error?"
      ],
      "metadata": {
        "id": "V2jyayR-yOvF"
      }
    },
    {
      "cell_type": "markdown",
      "source": [],
      "metadata": {
        "id": "F1ZCdkHyyY9x"
      }
    },
    {
      "cell_type": "markdown",
      "source": [
        "#### Bonus 5: Find and explain a better method of fitting this data"
      ],
      "metadata": {
        "id": "1y-okVy_w22o"
      }
    },
    {
      "cell_type": "code",
      "source": [],
      "metadata": {
        "id": "sfOiajQCxH_7"
      },
      "execution_count": null,
      "outputs": []
    }
  ]
}